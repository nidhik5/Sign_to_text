{
  "cells": [
    {
      "cell_type": "markdown",
      "metadata": {
        "id": "view-in-github",
        "colab_type": "text"
      },
      "source": [
        "<a href=\"https://colab.research.google.com/github/nidhik5/Sign_to_text/blob/main/Sign_to_text.ipynb\" target=\"_parent\"><img src=\"https://colab.research.google.com/assets/colab-badge.svg\" alt=\"Open In Colab\"/></a>"
      ]
    },
    {
      "cell_type": "code",
      "execution_count": null,
      "metadata": {
        "colab": {
          "base_uri": "https://localhost:8080/"
        },
        "id": "5Ntd0P_ChdcG",
        "outputId": "3c241d49-ee1e-435b-d434-f51b50be2ab1"
      },
      "outputs": [
        {
          "name": "stdout",
          "output_type": "stream",
          "text": [
            "Drive already mounted at /content/drive; to attempt to forcibly remount, call drive.mount(\"/content/drive\", force_remount=True).\n"
          ]
        }
      ],
      "source": [
        "from google.colab import drive\n",
        "drive.mount('/content/drive')"
      ]
    },
    {
      "cell_type": "code",
      "execution_count": null,
      "metadata": {
        "id": "8G4YUP4fkhRm"
      },
      "outputs": [],
      "source": [
        "import tensorflow as tf\n",
        "import pandas as pd\n",
        "import matplotlib.pyplot as plt\n",
        "import seaborn as sns\n",
        "import numpy as np"
      ]
    },
    {
      "cell_type": "code",
      "execution_count": null,
      "metadata": {
        "id": "vH6IZoC9lrGC"
      },
      "outputs": [],
      "source": [
        "train=pd.read_csv(r\"/content/drive/MyDrive/Colab Notebooks/mpr_sign/sign_mnist_train/sign_mnist_train.csv\")"
      ]
    },
    {
      "cell_type": "code",
      "execution_count": null,
      "metadata": {
        "id": "Bw_6bBtZl0Yg"
      },
      "outputs": [],
      "source": [
        "test=pd.read_csv(r\"/content/drive/MyDrive/Colab Notebooks/mpr_sign/sign_mnist_test/sign_mnist_test.csv\")"
      ]
    },
    {
      "cell_type": "code",
      "execution_count": null,
      "metadata": {
        "colab": {
          "base_uri": "https://localhost:8080/"
        },
        "id": "C7WEieXQmA8K",
        "outputId": "97fc71bf-6e71-4385-d181-5f9c4355ab21"
      },
      "outputs": [
        {
          "data": {
            "text/plain": [
              "(27455, 785)"
            ]
          },
          "execution_count": 46,
          "metadata": {},
          "output_type": "execute_result"
        }
      ],
      "source": [
        "train.shape"
      ]
    },
    {
      "cell_type": "code",
      "execution_count": null,
      "metadata": {
        "id": "lchywgo33-xm"
      },
      "outputs": [],
      "source": [
        "y_train=train['label']\n",
        "x_train=train.drop(['label'],axis=1)\n",
        "x_test=test.drop(['label'],axis=1)\n",
        "y_test=test['label']"
      ]
    },
    {
      "cell_type": "code",
      "execution_count": null,
      "metadata": {
        "id": "zC5Ogw9qdVwr"
      },
      "outputs": [],
      "source": [
        "import numpy as np\n",
        "\n",
        "x_train = x_train.values / 255.0\n",
        "x_test = x_test.values/ 255.0\n",
        "\n",
        "# Assuming x_train and x_test are DataFrames\n",
        "x_train = x_train.reshape(-1,28,28,1)\n",
        "x_test = x_test.reshape(-1,28,28,1)"
      ]
    },
    {
      "cell_type": "code",
      "execution_count": null,
      "metadata": {
        "colab": {
          "base_uri": "https://localhost:8080/",
          "height": 469
        },
        "id": "YlKPUogU98FE",
        "outputId": "d06a6d31-b111-427a-b645-8f7bf0ec9827"
      },
      "outputs": [
        {
          "data": {
            "text/plain": [
              "Text(0.5, 1.0, '6')"
            ]
          },
          "execution_count": 49,
          "metadata": {},
          "output_type": "execute_result"
        },
        {
          "data": {
            "image/png": "[encoded data removed]",
            "text/plain": [
              "<Figure size 640x480 with 1 Axes>"
            ]
          },
          "metadata": {},
          "output_type": "display_data"
        }
      ],
      "source": [
        "plt.imshow(x_train[1].reshape(28,28))\n",
        "plt.title(f\"{y_train[1]}\")"
      ]
    },
    {
      "cell_type": "code",
      "execution_count": null,
      "metadata": {
        "colab": {
          "base_uri": "https://localhost:8080/"
        },
        "id": "sEH2njwv-u8o",
        "outputId": "c2edc3d8-12b3-4b87-da0d-c60d98fe54ab"
      },
      "outputs": [
        {
          "data": {
            "text/plain": [
              "array([ 3,  6,  2, 13, 16,  8, 22, 18, 10, 20, 17, 19, 21, 23, 24,  1, 12,\n",
              "       11, 15,  4,  0,  5,  7, 14])"
            ]
          },
          "execution_count": 50,
          "metadata": {},
          "output_type": "execute_result"
        }
      ],
      "source": [
        "y_train.unique()"
      ]
    },
    {
      "cell_type": "code",
      "execution_count": null,
      "metadata": {
        "id": "KsgSXdUxLoin"
      },
      "outputs": [],
      "source": [
        "from keras.preprocessing.image import ImageDataGenerator"
      ]
    },
    {
      "cell_type": "code",
      "execution_count": null,
      "metadata": {
        "id": "QcUXYvpRLotG"
      },
      "outputs": [],
      "source": [
        "datagen = ImageDataGenerator(\n",
        "    rotation_range=10,\n",
        "    width_shift_range=0.2,\n",
        "    height_shift_range=0.2,\n",
        "    horizontal_flip=False,\n",
        ")\n",
        "datagen.fit(x_train)"
      ]
    },
    {
      "cell_type": "code",
      "execution_count": null,
      "metadata": {
        "colab": {
          "base_uri": "https://localhost:8080/",
          "height": 469
        },
        "id": "cAcFt7g1Nm01",
        "outputId": "2f675953-d4e0-43af-de3a-e1c7328ac0b7"
      },
      "outputs": [
        {
          "data": {
            "text/plain": [
              "Text(0.5, 1.0, '3')"
            ]
          },
          "execution_count": 53,
          "metadata": {},
          "output_type": "execute_result"
        },
        {
          "data": {
            "image/png": "[encoded data removed]",
            "text/plain": [
              "<Figure size 640x480 with 1 Axes>"
            ]
          },
          "metadata": {},
          "output_type": "display_data"
        }
      ],
      "source": [
        "plt.imshow(x_train[8].reshape(28,28))\n",
        "plt.title(f\"{y_train[8]}\")"
      ]
    },
    {
      "cell_type": "code",
      "execution_count": null,
      "metadata": {
        "id": "Bo3KyLXUUHRd"
      },
      "outputs": [],
      "source": [
        "from sklearn.preprocessing import LabelBinarizer\n",
        "LB=LabelBinarizer()\n",
        "y_train=LB.fit_transform(y_train)\n",
        "y_test=LB.fit_transform(y_test)"
      ]
    },
    {
      "cell_type": "code",
      "execution_count": null,
      "metadata": {
        "id": "dE6Dum-yN220"
      },
      "outputs": [],
      "source": [
        "from keras.models import Sequential\n",
        "from keras.layers import Dense, Conv2D, MaxPool2D, Flatten, Dropout, BatchNormalization\n",
        "from keras.callbacks import ModelCheckpoint"
      ]
    },
    {
      "cell_type": "code",
      "execution_count": null,
      "metadata": {
        "id": "FMVthkFVN26U"
      },
      "outputs": [],
      "source": [
        "from keras.callbacks import ReduceLROnPlateau\n",
        "\n",
        "modelsave=ModelCheckpoint(r'C:\\Users\\Nidhi\\Desktop\\sem 4\\model.h5',save_best_only=True, monitor='val_loss')\n",
        "reduce_lr_loss=ReduceLROnPlateau(monitor='val_accuracy',patience=3,verbose=1)"
      ]
    },
    {
      "cell_type": "code",
      "execution_count": null,
      "metadata": {
        "colab": {
          "base_uri": "https://localhost:8080/"
        },
        "id": "uQ7kLh2lRsLM",
        "outputId": "abb552fa-af37-49c3-a635-a64fcb5aaf37"
      },
      "outputs": [
        {
          "name": "stdout",
          "output_type": "stream",
          "text": [
            "Model: \"sequential_2\"\n",
            "_________________________________________________________________\n",
            " Layer (type)                Output Shape              Param #   \n",
            "=================================================================\n",
            " conv2d_6 (Conv2D)           (None, 28, 28, 128)       1280      \n",
            "                                                                 \n",
            " batch_normalization_10 (Ba  (None, 28, 28, 128)       512       \n",
            " tchNormalization)                                               \n",
            "                                                                 \n",
            " dropout_8 (Dropout)         (None, 28, 28, 128)       0         \n",
            "                                                                 \n",
            " max_pooling2d_6 (MaxPoolin  (None, 14, 14, 128)       0         \n",
            " g2D)                                                            \n",
            "                                                                 \n",
            " conv2d_7 (Conv2D)           (None, 14, 14, 256)       295168    \n",
            "                                                                 \n",
            " batch_normalization_11 (Ba  (None, 14, 14, 256)       1024      \n",
            " tchNormalization)                                               \n",
            "                                                                 \n",
            " dropout_9 (Dropout)         (None, 14, 14, 256)       0         \n",
            "                                                                 \n",
            " max_pooling2d_7 (MaxPoolin  (None, 7, 7, 256)         0         \n",
            " g2D)                                                            \n",
            "                                                                 \n",
            " conv2d_8 (Conv2D)           (None, 7, 7, 64)          147520    \n",
            "                                                                 \n",
            " batch_normalization_12 (Ba  (None, 7, 7, 64)          256       \n",
            " tchNormalization)                                               \n",
            "                                                                 \n",
            " dropout_10 (Dropout)        (None, 7, 7, 64)          0         \n",
            "                                                                 \n",
            " max_pooling2d_8 (MaxPoolin  (None, 3, 3, 64)          0         \n",
            " g2D)                                                            \n",
            "                                                                 \n",
            " flatten_2 (Flatten)         (None, 576)               0         \n",
            "                                                                 \n",
            " dense_6 (Dense)             (None, 32)                18464     \n",
            "                                                                 \n",
            " batch_normalization_13 (Ba  (None, 32)                128       \n",
            " tchNormalization)                                               \n",
            "                                                                 \n",
            " dropout_11 (Dropout)        (None, 32)                0         \n",
            "                                                                 \n",
            " dense_7 (Dense)             (None, 32)                1056      \n",
            "                                                                 \n",
            " batch_normalization_14 (Ba  (None, 32)                128       \n",
            " tchNormalization)                                               \n",
            "                                                                 \n",
            " dense_8 (Dense)             (None, 24)                792       \n",
            "                                                                 \n",
            "=================================================================\n",
            "Total params: 466328 (1.78 MB)\n",
            "Trainable params: 465304 (1.77 MB)\n",
            "Non-trainable params: 1024 (4.00 KB)\n",
            "_________________________________________________________________\n"
          ]
        }
      ],
      "source": [
        "from tensorflow.keras.models import Sequential\n",
        "from tensorflow.keras.layers import Conv2D, MaxPool2D, BatchNormalization, Dense, Dropout, Flatten\n",
        "from tensorflow.keras import regularizers\n",
        "\n",
        "model = Sequential()\n",
        "\n",
        "model.add(Conv2D(filters=128, kernel_size=(3, 3), padding='same', activation='relu', input_shape=(28, 28, 1)))\n",
        "model.add(BatchNormalization())\n",
        "model.add(Dropout(0.3))\n",
        "model.add(MaxPool2D(pool_size=(2, 2)))\n",
        "\n",
        "model.add(Conv2D(filters=256, kernel_size=(3, 3), padding='same', activation='relu'))\n",
        "model.add(BatchNormalization())\n",
        "model.add(Dropout(0.3))\n",
        "model.add(MaxPool2D(pool_size=(2, 2)))\n",
        "\n",
        "\n",
        "model.add(Conv2D(filters=64, kernel_size=(3, 3), activation='relu',padding=\"same\"))\n",
        "model.add(BatchNormalization())\n",
        "model.add(Dropout(0.3))\n",
        "model.add(MaxPool2D(pool_size=(2, 2)))\n",
        "\n",
        "\n",
        "model.add(Flatten())\n",
        "\n",
        "model.add(Dense(units=32, activation='relu',kernel_regularizer=regularizers.l2(0.1)))\n",
        "model.add(BatchNormalization())\n",
        "model.add(Dropout(0.3))\n",
        "\n",
        "\n",
        "model.add(Dense(units=32, activation='relu',kernel_regularizer=regularizers.l2(0.1)))\n",
        "model.add(BatchNormalization())\n",
        "#model.add(Dropout(0.3)) last step before proper ans\n",
        "\n",
        "\n",
        "# Modify the output layer to have 24 units (for 24 classes) and use 'softmax' activation for classification\n",
        "model.add(Dense(units=24, activation=\"softmax\"))\n",
        "\n",
        "model.summary()\n"
      ]
    },
    {
      "cell_type": "code",
      "execution_count": null,
      "metadata": {
        "id": "ShWZmQAvkbLW"
      },
      "outputs": [],
      "source": [
        "from tensorflow.keras.callbacks import EarlyStopping\n",
        "\n",
        "early_stopping = EarlyStopping(monitor='val_accuracy', patience=10, restore_best_weights=True)"
      ]
    },
    {
      "cell_type": "code",
      "execution_count": null,
      "metadata": {
        "id": "kCknX2BxW-Du"
      },
      "outputs": [],
      "source": [
        "model.compile(optimizer = 'adam' , loss = 'categorical_crossentropy' , metrics = ['accuracy'])"
      ]
    },
    {
      "cell_type": "code",
      "execution_count": null,
      "metadata": {
        "colab": {
          "background_save": true,
          "base_uri": "https://localhost:8080/"
        },
        "id": "c6yl5NdCWzLV",
        "outputId": "b89ef88f-a482-4427-adc3-bfcc1c0aeab3"
      },
      "outputs": [
        {
          "name": "stdout",
          "output_type": "stream",
          "text": [
            "Epoch 1/11\n",
            "858/858 [==============================] - 428s 499ms/step - loss: 0.0215 - accuracy: 0.9996 - val_loss: 0.0307 - val_accuracy: 0.9936 - lr: 1.0000e-05\n",
            "Epoch 2/11\n",
            "858/858 [==============================] - 392s 457ms/step - loss: 0.0194 - accuracy: 0.9996 - val_loss: 0.0309 - val_accuracy: 0.9933 - lr: 1.0000e-05\n",
            "Epoch 3/11\n",
            "858/858 [==============================] - 409s 477ms/step - loss: 0.0180 - accuracy: 0.9995 - val_loss: 0.0291 - val_accuracy: 0.9927 - lr: 1.0000e-05\n",
            "Epoch 4/11\n",
            "858/858 [==============================] - 408s 475ms/step - loss: 0.0167 - accuracy: 0.9994 - val_loss: 0.0258 - val_accuracy: 0.9943 - lr: 1.0000e-05\n",
            "Epoch 5/11\n",
            "858/858 [==============================] - 409s 477ms/step - loss: 0.0155 - accuracy: 0.9996 - val_loss: 0.0237 - val_accuracy: 0.9943 - lr: 1.0000e-05\n",
            "Epoch 6/11\n",
            "858/858 [==============================] - 388s 453ms/step - loss: 0.0143 - accuracy: 0.9996 - val_loss: 0.0268 - val_accuracy: 0.9930 - lr: 1.0000e-05\n",
            "Epoch 7/11\n",
            "858/858 [==============================] - ETA: 0s - loss: 0.0131 - accuracy: 0.9998\n",
            "Epoch 7: ReduceLROnPlateau reducing learning rate to 1.0000000656873453e-06.\n",
            "858/858 [==============================] - 409s 477ms/step - loss: 0.0131 - accuracy: 0.9998 - val_loss: 0.0244 - val_accuracy: 0.9936 - lr: 1.0000e-05\n",
            "Epoch 8/11\n",
            "858/858 [==============================] - 415s 484ms/step - loss: 0.0131 - accuracy: 0.9996 - val_loss: 0.0243 - val_accuracy: 0.9939 - lr: 1.0000e-06\n",
            "Epoch 9/11\n",
            "858/858 [==============================] - 413s 481ms/step - loss: 0.0130 - accuracy: 0.9996 - val_loss: 0.0253 - val_accuracy: 0.9939 - lr: 1.0000e-06\n",
            "Epoch 10/11\n",
            "858/858 [==============================] - ETA: 0s - loss: 0.0131 - accuracy: 0.9995\n",
            "Epoch 10: ReduceLROnPlateau reducing learning rate to 1.0000001111620805e-07.\n",
            "858/858 [==============================] - 413s 481ms/step - loss: 0.0131 - accuracy: 0.9995 - val_loss: 0.0239 - val_accuracy: 0.9941 - lr: 1.0000e-06\n",
            "Epoch 11/11\n",
            "858/858 [==============================] - 393s 458ms/step - loss: 0.0126 - accuracy: 0.9999 - val_loss: 0.0246 - val_accuracy: 0.9937 - lr: 1.0000e-07\n"
          ]
        }
      ],
      "source": [
        "history = model.fit(x_train, y_train, epochs=11, batch_size=32, validation_data=(x_test, y_test),callbacks=[reduce_lr_loss])"
      ]
    },
    {
      "cell_type": "code",
      "execution_count": null,
      "metadata": {
        "id": "KteW5qK4R6IA",
        "outputId": "b30201c4-fa57-4aad-e4d6-e56cf63ede7c",
        "colab": {
          "base_uri": "https://localhost:8080/",
          "height": 245
        }
      },
      "outputs": [
        {
          "output_type": "error",
          "ename": "NameError",
          "evalue": "ignored",
          "traceback": [
            "\u001b[0;31m---------------------------------------------------------------------------\u001b[0m",
            "\u001b[0;31mNameError\u001b[0m                                 Traceback (most recent call last)",
            "\u001b[0;32m<ipython-input-1-e0170c2267f3>\u001b[0m in \u001b[0;36m<cell line: 1>\u001b[0;34m()\u001b[0m\n\u001b[0;32m----> 1\u001b[0;31m \u001b[0mplt\u001b[0m\u001b[0;34m.\u001b[0m\u001b[0mfigure\u001b[0m\u001b[0;34m(\u001b[0m\u001b[0;34m)\u001b[0m\u001b[0;34m\u001b[0m\u001b[0;34m\u001b[0m\u001b[0m\n\u001b[0m\u001b[1;32m      2\u001b[0m \u001b[0mplt\u001b[0m\u001b[0;34m.\u001b[0m\u001b[0mplot\u001b[0m\u001b[0;34m(\u001b[0m\u001b[0mhistory\u001b[0m\u001b[0;34m.\u001b[0m\u001b[0mhistory\u001b[0m\u001b[0;34m[\u001b[0m\u001b[0;34m\"accuracy\"\u001b[0m\u001b[0;34m]\u001b[0m\u001b[0;34m,\u001b[0m\u001b[0mlabel\u001b[0m\u001b[0;34m=\u001b[0m\u001b[0;34m\"Train\"\u001b[0m\u001b[0;34m)\u001b[0m\u001b[0;34m;\u001b[0m\u001b[0;34m\u001b[0m\u001b[0;34m\u001b[0m\u001b[0m\n\u001b[1;32m      3\u001b[0m \u001b[0mplt\u001b[0m\u001b[0;34m.\u001b[0m\u001b[0mplot\u001b[0m\u001b[0;34m(\u001b[0m\u001b[0mhistory\u001b[0m\u001b[0;34m.\u001b[0m\u001b[0mhistory\u001b[0m\u001b[0;34m[\u001b[0m\u001b[0;34m\"val_accuracy\"\u001b[0m\u001b[0;34m]\u001b[0m\u001b[0;34m,\u001b[0m\u001b[0mlabel\u001b[0m\u001b[0;34m=\u001b[0m\u001b[0;34m\"Test\"\u001b[0m\u001b[0;34m)\u001b[0m\u001b[0;34m;\u001b[0m\u001b[0;34m\u001b[0m\u001b[0;34m\u001b[0m\u001b[0m\n\u001b[1;32m      4\u001b[0m \u001b[0mplt\u001b[0m\u001b[0;34m.\u001b[0m\u001b[0mtitle\u001b[0m\u001b[0;34m(\u001b[0m\u001b[0;34m\"Accuracy\"\u001b[0m\u001b[0;34m)\u001b[0m\u001b[0;34m\u001b[0m\u001b[0;34m\u001b[0m\u001b[0m\n\u001b[1;32m      5\u001b[0m \u001b[0mplt\u001b[0m\u001b[0;34m.\u001b[0m\u001b[0mylabel\u001b[0m\u001b[0;34m(\u001b[0m\u001b[0;34m\"Accuracy\"\u001b[0m\u001b[0;34m)\u001b[0m\u001b[0;34m\u001b[0m\u001b[0;34m\u001b[0m\u001b[0m\n",
            "\u001b[0;31mNameError\u001b[0m: name 'plt' is not defined"
          ]
        }
      ],
      "source": [
        "plt.figure()\n",
        "plt.plot(history.history[\"accuracy\"],label=\"Train\");\n",
        "plt.plot(history.history[\"val_accuracy\"],label=\"Test\");\n",
        "plt.title(\"Accuracy\")\n",
        "plt.ylabel(\"Accuracy\")\n",
        "plt.xlabel(\"Epochs\")\n",
        "plt.legend()\n",
        "plt.show()"
      ]
    }
  ],
  "metadata": {
    "colab": {
      "provenance": [],
      "mount_file_id": "188ee-vd8m0gC2IOfM4N8cr1VNFXJm9X1",
      "authorship_tag": "ABX9TyO5NzoviLMhZ56m00mr8+By",
      "include_colab_link": true
    },
    "kernelspec": {
      "display_name": "Python 3",
      "name": "python3"
    },
    "language_info": {
      "name": "python"
    }
  },
  "nbformat": 4,
  "nbformat_minor": 0
}