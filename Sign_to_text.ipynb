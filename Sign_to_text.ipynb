{
  "cells": [
    {
      "cell_type": "markdown",
      "metadata": {
        "id": "view-in-github",
        "colab_type": "text"
      },
      "source": [
        "<a href=\"https://colab.research.google.com/github/nidhik5/Sign_to_text/blob/main/Sign_to_text.ipynb\" target=\"_parent\"><img src=\"https://colab.research.google.com/assets/colab-badge.svg\" alt=\"Open In Colab\"/></a>"
      ]
    },
    {
      "cell_type": "code",
      "execution_count": null,
      "metadata": {
        "colab": {
          "base_uri": "https://localhost:8080/"
        },
        "id": "5Ntd0P_ChdcG",
        "outputId": "694e597b-7199-428d-c4f4-ade8d7cbf76c"
      },
      "outputs": [
        {
          "output_type": "stream",
          "name": "stdout",
          "text": [
            "Drive already mounted at /content/drive; to attempt to forcibly remount, call drive.mount(\"/content/drive\", force_remount=True).\n"
          ]
        }
      ],
      "source": [
        "from google.colab import drive\n",
        "drive.mount('/content/drive')"
      ]
    },
    {
      "cell_type": "code",
      "execution_count": null,
      "metadata": {
        "id": "8G4YUP4fkhRm"
      },
      "outputs": [],
      "source": [
        "import tensorflow as tf\n",
        "import pandas as pd\n",
        "import matplotlib.pyplot as plt\n",
        "import seaborn as sns\n",
        "import numpy as np"
      ]
    },
    {
      "cell_type": "code",
      "execution_count": null,
      "metadata": {
        "id": "vH6IZoC9lrGC"
      },
      "outputs": [],
      "source": [
        "train=pd.read_csv(r\"/content/drive/MyDrive/Colab Notebooks/mpr_sign/sign_mnist_train/sign_mnist_train.csv\")"
      ]
    },
    {
      "cell_type": "code",
      "execution_count": null,
      "metadata": {
        "id": "Bw_6bBtZl0Yg"
      },
      "outputs": [],
      "source": [
        "test=pd.read_csv(r\"/content/drive/MyDrive/Colab Notebooks/mpr_sign/sign_mnist_test/sign_mnist_test.csv\")"
      ]
    },
    {
      "cell_type": "code",
      "execution_count": null,
      "metadata": {
        "colab": {
          "base_uri": "https://localhost:8080/"
        },
        "id": "C7WEieXQmA8K",
        "outputId": "fb13f0b0-fb94-4c08-85d2-ae56aace7353"
      },
      "outputs": [
        {
          "output_type": "execute_result",
          "data": {
            "text/plain": [
              "(27455, 785)"
            ]
          },
          "metadata": {},
          "execution_count": 6
        }
      ],
      "source": [
        "train.shape"
      ]
    },
    {
      "cell_type": "code",
      "execution_count": null,
      "metadata": {
        "id": "lchywgo33-xm"
      },
      "outputs": [],
      "source": [
        "y_train=train['label']\n",
        "x_train=train.drop(['label'],axis=1)\n",
        "x_test=test.drop(['label'],axis=1)\n",
        "y_test=test['label']"
      ]
    },
    {
      "cell_type": "code",
      "execution_count": null,
      "metadata": {
        "id": "zC5Ogw9qdVwr"
      },
      "outputs": [],
      "source": [
        "import numpy as np\n",
        "\n",
        "x_train = x_train.values / 255.0\n",
        "x_test = x_test.values/ 255.0\n",
        "\n",
        "# Assuming x_train and x_test are DataFrames\n",
        "x_train = x_train.reshape(-1,28,28,1)\n",
        "x_test = x_test.reshape(-1,28,28,1)"
      ]
    },
    {
      "cell_type": "code",
      "execution_count": null,
      "metadata": {
        "colab": {
          "base_uri": "https://localhost:8080/",
          "height": 469
        },
        "id": "YlKPUogU98FE",
        "outputId": "6cc40525-58dc-4bab-9836-8f47266611e6"
      },
      "outputs": [
        {
          "output_type": "execute_result",
          "data": {
            "text/plain": [
              "Text(0.5, 1.0, '6')"
            ]
          },
          "metadata": {},
          "execution_count": 9
        },
        {
          "output_type": "display_data",
          "data": {
            "text/plain": [
              "<Figure size 640x480 with 1 Axes>"
            ],
            "image/png": "[encoded data removed]"
          },
          "metadata": {}
        }
      ],
      "source": [
        "plt.imshow(x_train[1].reshape(28,28))\n",
        "plt.title(f\"{y_train[1]}\")"
      ]
    },
    {
      "cell_type": "code",
      "execution_count": null,
      "metadata": {
        "colab": {
          "base_uri": "https://localhost:8080/"
        },
        "id": "sEH2njwv-u8o",
        "outputId": "8ce7553f-2914-4f2c-f5eb-5e3c1c67bb9b"
      },
      "outputs": [
        {
          "output_type": "execute_result",
          "data": {
            "text/plain": [
              "array([ 3,  6,  2, 13, 16,  8, 22, 18, 10, 20, 17, 19, 21, 23, 24,  1, 12,\n",
              "       11, 15,  4,  0,  5,  7, 14])"
            ]
          },
          "metadata": {},
          "execution_count": 10
        }
      ],
      "source": [
        "y_train.unique()"
      ]
    },
    {
      "cell_type": "code",
      "execution_count": null,
      "metadata": {
        "id": "KsgSXdUxLoin"
      },
      "outputs": [],
      "source": [
        "from keras.preprocessing.image import ImageDataGenerator"
      ]
    },
    {
      "cell_type": "code",
      "execution_count": null,
      "metadata": {
        "id": "QcUXYvpRLotG"
      },
      "outputs": [],
      "source": [
        "datagen = ImageDataGenerator(\n",
        "    rotation_range=10,\n",
        "    width_shift_range=0.2,\n",
        "    height_shift_range=0.2,\n",
        "    horizontal_flip=False,\n",
        ")\n",
        "datagen.fit(x_train)"
      ]
    },
    {
      "cell_type": "code",
      "execution_count": null,
      "metadata": {
        "colab": {
          "base_uri": "https://localhost:8080/",
          "height": 469
        },
        "id": "cAcFt7g1Nm01",
        "outputId": "3a45f99a-50d0-49a5-804f-6590c2eedc03"
      },
      "outputs": [
        {
          "output_type": "execute_result",
          "data": {
            "text/plain": [
              "Text(0.5, 1.0, '3')"
            ]
          },
          "metadata": {},
          "execution_count": 13
        },
        {
          "output_type": "display_data",
          "data": {
            "text/plain": [
              "<Figure size 640x480 with 1 Axes>"
            ],
            "image/png": "[encoded data removed]"
          },
          "metadata": {}
        }
      ],
      "source": [
        "plt.imshow(x_train[8].reshape(28,28))\n",
        "plt.title(f\"{y_train[8]}\")"
      ]
    },
    {
      "cell_type": "code",
      "execution_count": null,
      "metadata": {
        "id": "Bo3KyLXUUHRd"
      },
      "outputs": [],
      "source": [
        "from sklearn.preprocessing import LabelBinarizer\n",
        "LB=LabelBinarizer()\n",
        "y_train=LB.fit_transform(y_train)\n",
        "y_test=LB.fit_transform(y_test)"
      ]
    },
    {
      "cell_type": "code",
      "execution_count": null,
      "metadata": {
        "id": "dE6Dum-yN220"
      },
      "outputs": [],
      "source": [
        "from keras.models import Sequential\n",
        "from keras.layers import Dense, Conv2D, MaxPool2D, Flatten, Dropout, BatchNormalization\n",
        "from keras.callbacks import ModelCheckpoint"
      ]
    },
    {
      "cell_type": "code",
      "execution_count": null,
      "metadata": {
        "id": "FMVthkFVN26U"
      },
      "outputs": [],
      "source": [
        "from keras.callbacks import ReduceLROnPlateau\n",
        "\n",
        "modelsave=ModelCheckpoint(r'C:\\Users\\Nidhi\\Desktop\\sem 4\\model.h5',save_best_only=True, monitor='val_loss')\n",
        "reduce_lr_loss=ReduceLROnPlateau(monitor='val_accuracy',patience=3,verbose=1)"
      ]
    },
    {
      "cell_type": "code",
      "execution_count": null,
      "metadata": {
        "id": "uQ7kLh2lRsLM"
      },
      "outputs": [],
      "source": [
        "from tensorflow.keras.models import Sequential\n",
        "from tensorflow.keras.layers import Conv2D, MaxPool2D, BatchNormalization, Dense, Dropout, Flatten\n",
        "from tensorflow.keras import regularizers\n",
        "\n",
        "model = Sequential()\n",
        "\n",
        "model.add(BatchNormalization())\n",
        "model.add(Conv2D(filters=128, kernel_size=(3, 3), padding='same', activation='relu', input_shape=(28, 28, 1)))\n",
        "model.add(Dropout(0.3))\n",
        "model.add(MaxPool2D(pool_size=(2, 2)))\n",
        "\n",
        "model.add(BatchNormalization())\n",
        "model.add(Conv2D(filters=256, kernel_size=(3, 3), padding='same', activation='relu'))\n",
        "model.add(Dropout(0.3))\n",
        "model.add(MaxPool2D(pool_size=(2, 2)))\n",
        "\n",
        "model.add(BatchNormalization())\n",
        "model.add(Conv2D(filters=64, kernel_size=(3, 3), activation='relu',padding=\"same\"))\n",
        "model.add(Dropout(0.3))\n",
        "model.add(MaxPool2D(pool_size=(2, 2)))\n",
        "\n",
        "\n",
        "model.add(Flatten())\n",
        "\n",
        "model.add(Dense(units=32, activation='relu',kernel_regularizer=regularizers.l2(0.1)))\n",
        "model.add(Dropout(0.3))\n",
        "\n",
        "\n",
        "model.add(Dense(units=32, activation='relu',kernel_regularizer=regularizers.l2(0.1)))\n",
        "#model.add(Dropout(0.3)) last step before proper ans\n",
        "\n",
        "\n",
        "# Modify the output layer to have 24 units (for 24 classes) and use 'softmax' activation for classification\n",
        "model.add(Dense(units=24, activation=\"softmax\"))\n",
        "\n",
        "\n"
      ]
    },
    {
      "cell_type": "code",
      "execution_count": null,
      "metadata": {
        "id": "ShWZmQAvkbLW"
      },
      "outputs": [],
      "source": [
        "from tensorflow.keras.callbacks import EarlyStopping\n",
        "\n",
        "early_stopping = EarlyStopping(monitor='val_accuracy', patience=10, restore_best_weights=True)"
      ]
    },
    {
      "cell_type": "code",
      "execution_count": null,
      "metadata": {
        "id": "kCknX2BxW-Du"
      },
      "outputs": [],
      "source": [
        "model.compile(optimizer = 'sgd' , loss = 'categorical_crossentropy' , metrics = ['accuracy'])"
      ]
    },
    {
      "cell_type": "code",
      "execution_count": null,
      "metadata": {
        "colab": {
          "base_uri": "https://localhost:8080/"
        },
        "id": "c6yl5NdCWzLV",
        "outputId": "8b0a13d2-b9c7-4f52-9fd4-eea58e3aaa2e"
      },
      "outputs": [
        {
          "output_type": "stream",
          "name": "stdout",
          "text": [
            "Epoch 1/50\n",
            "858/858 [==============================] - 10s 12ms/step - loss: 4.9295 - accuracy: 0.3659 - val_loss: 2.2876 - val_accuracy: 0.7038 - lr: 0.0100\n",
            "Epoch 2/50\n",
            "858/858 [==============================] - 9s 11ms/step - loss: 1.3778 - accuracy: 0.7313 - val_loss: 1.4338 - val_accuracy: 0.8661 - lr: 0.0100\n",
            "Epoch 3/50\n",
            "858/858 [==============================] - 10s 11ms/step - loss: 1.0137 - accuracy: 0.8147 - val_loss: 1.1246 - val_accuracy: 0.9048 - lr: 0.0100\n",
            "Epoch 4/50\n",
            "858/858 [==============================] - 8s 10ms/step - loss: 0.8560 - accuracy: 0.8562 - val_loss: 1.0390 - val_accuracy: 0.9108 - lr: 0.0100\n",
            "Epoch 5/50\n",
            "858/858 [==============================] - 9s 11ms/step - loss: 0.7649 - accuracy: 0.8786 - val_loss: 0.9061 - val_accuracy: 0.9433 - lr: 0.0100\n",
            "Epoch 6/50\n",
            "858/858 [==============================] - 9s 10ms/step - loss: 0.6901 - accuracy: 0.8953 - val_loss: 0.8771 - val_accuracy: 0.9175 - lr: 0.0100\n",
            "Epoch 7/50\n",
            "858/858 [==============================] - 9s 11ms/step - loss: 0.6448 - accuracy: 0.9065 - val_loss: 0.7550 - val_accuracy: 0.9485 - lr: 0.0100\n",
            "Epoch 8/50\n",
            "858/858 [==============================] - 9s 11ms/step - loss: 0.6044 - accuracy: 0.9147 - val_loss: 0.7236 - val_accuracy: 0.9618 - lr: 0.0100\n",
            "Epoch 9/50\n",
            "858/858 [==============================] - 9s 10ms/step - loss: 0.5703 - accuracy: 0.9207 - val_loss: 0.7148 - val_accuracy: 0.9611 - lr: 0.0100\n",
            "Epoch 10/50\n",
            "858/858 [==============================] - 10s 11ms/step - loss: 0.5399 - accuracy: 0.9272 - val_loss: 0.7306 - val_accuracy: 0.9374 - lr: 0.0100\n",
            "Epoch 11/50\n",
            "858/858 [==============================] - 9s 10ms/step - loss: 0.5150 - accuracy: 0.9334 - val_loss: 0.6178 - val_accuracy: 0.9755 - lr: 0.0100\n",
            "Epoch 12/50\n",
            "858/858 [==============================] - 10s 11ms/step - loss: 0.4986 - accuracy: 0.9353 - val_loss: 0.6218 - val_accuracy: 0.9603 - lr: 0.0100\n",
            "Epoch 13/50\n",
            "858/858 [==============================] - 9s 10ms/step - loss: 0.4812 - accuracy: 0.9388 - val_loss: 0.6244 - val_accuracy: 0.9421 - lr: 0.0100\n",
            "Epoch 14/50\n",
            "856/858 [============================>.] - ETA: 0s - loss: 0.4568 - accuracy: 0.9433\n",
            "Epoch 14: ReduceLROnPlateau reducing learning rate to 0.0009999999776482583.\n",
            "858/858 [==============================] - 9s 11ms/step - loss: 0.4567 - accuracy: 0.9434 - val_loss: 0.5591 - val_accuracy: 0.9632 - lr: 0.0100\n",
            "Epoch 15/50\n",
            "858/858 [==============================] - 9s 11ms/step - loss: 0.3725 - accuracy: 0.9710 - val_loss: 0.5274 - val_accuracy: 0.9769 - lr: 1.0000e-03\n",
            "Epoch 16/50\n",
            "858/858 [==============================] - 9s 10ms/step - loss: 0.3602 - accuracy: 0.9708 - val_loss: 0.5255 - val_accuracy: 0.9748 - lr: 1.0000e-03\n",
            "Epoch 17/50\n",
            "858/858 [==============================] - 9s 11ms/step - loss: 0.3484 - accuracy: 0.9731 - val_loss: 0.5331 - val_accuracy: 0.9699 - lr: 1.0000e-03\n",
            "Epoch 18/50\n",
            "854/858 [============================>.] - ETA: 0s - loss: 0.3473 - accuracy: 0.9708\n",
            "Epoch 18: ReduceLROnPlateau reducing learning rate to 9.999999310821295e-05.\n",
            "858/858 [==============================] - 9s 10ms/step - loss: 0.3471 - accuracy: 0.9709 - val_loss: 0.5202 - val_accuracy: 0.9750 - lr: 1.0000e-03\n",
            "Epoch 19/50\n",
            "858/858 [==============================] - 10s 12ms/step - loss: 0.3396 - accuracy: 0.9751 - val_loss: 0.5206 - val_accuracy: 0.9735 - lr: 1.0000e-04\n",
            "Epoch 20/50\n",
            "858/858 [==============================] - 9s 11ms/step - loss: 0.3382 - accuracy: 0.9746 - val_loss: 0.5172 - val_accuracy: 0.9741 - lr: 1.0000e-04\n",
            "Epoch 21/50\n",
            "854/858 [============================>.] - ETA: 0s - loss: 0.3387 - accuracy: 0.9728\n",
            "Epoch 21: ReduceLROnPlateau reducing learning rate to 9.999999019782991e-06.\n",
            "858/858 [==============================] - 10s 11ms/step - loss: 0.3389 - accuracy: 0.9727 - val_loss: 0.5211 - val_accuracy: 0.9724 - lr: 1.0000e-04\n",
            "Epoch 22/50\n",
            "858/858 [==============================] - 10s 11ms/step - loss: 0.3383 - accuracy: 0.9744 - val_loss: 0.5224 - val_accuracy: 0.9721 - lr: 1.0000e-05\n",
            "Epoch 23/50\n",
            "858/858 [==============================] - 9s 11ms/step - loss: 0.3393 - accuracy: 0.9739 - val_loss: 0.5214 - val_accuracy: 0.9725 - lr: 1.0000e-05\n",
            "Epoch 24/50\n",
            "857/858 [============================>.] - ETA: 0s - loss: 0.3371 - accuracy: 0.9736\n",
            "Epoch 24: ReduceLROnPlateau reducing learning rate to 9.99999883788405e-07.\n",
            "858/858 [==============================] - 10s 12ms/step - loss: 0.3371 - accuracy: 0.9736 - val_loss: 0.5206 - val_accuracy: 0.9724 - lr: 1.0000e-05\n",
            "Epoch 25/50\n",
            "858/858 [==============================] - 8s 10ms/step - loss: 0.3394 - accuracy: 0.9725 - val_loss: 0.5218 - val_accuracy: 0.9718 - lr: 1.0000e-06\n"
          ]
        }
      ],
      "source": [
        "history = model.fit(x_train, y_train, epochs=50, batch_size=32, validation_data=(x_test, y_test),callbacks=[reduce_lr_loss, early_stopping])"
      ]
    },
    {
      "cell_type": "code",
      "source": [
        "model.summary()"
      ],
      "metadata": {
        "colab": {
          "base_uri": "https://localhost:8080/"
        },
        "id": "jslVs2jOsSoQ",
        "outputId": "0aed075b-6bdf-43de-ae7f-99ab00053161"
      },
      "execution_count": null,
      "outputs": [
        {
          "output_type": "stream",
          "name": "stdout",
          "text": [
            "Model: \"sequential_1\"\n",
            "_________________________________________________________________\n",
            " Layer (type)                Output Shape              Param #   \n",
            "=================================================================\n",
            " batch_normalization_3 (Bat  (None, 28, 28, 1)         4         \n",
            " chNormalization)                                                \n",
            "                                                                 \n",
            " conv2d_3 (Conv2D)           (None, 28, 28, 128)       1280      \n",
            "                                                                 \n",
            " dropout_4 (Dropout)         (None, 28, 28, 128)       0         \n",
            "                                                                 \n",
            " max_pooling2d_3 (MaxPoolin  (None, 14, 14, 128)       0         \n",
            " g2D)                                                            \n",
            "                                                                 \n",
            " batch_normalization_4 (Bat  (None, 14, 14, 128)       512       \n",
            " chNormalization)                                                \n",
            "                                                                 \n",
            " conv2d_4 (Conv2D)           (None, 14, 14, 256)       295168    \n",
            "                                                                 \n",
            " dropout_5 (Dropout)         (None, 14, 14, 256)       0         \n",
            "                                                                 \n",
            " max_pooling2d_4 (MaxPoolin  (None, 7, 7, 256)         0         \n",
            " g2D)                                                            \n",
            "                                                                 \n",
            " batch_normalization_5 (Bat  (None, 7, 7, 256)         1024      \n",
            " chNormalization)                                                \n",
            "                                                                 \n",
            " conv2d_5 (Conv2D)           (None, 7, 7, 64)          147520    \n",
            "                                                                 \n",
            " dropout_6 (Dropout)         (None, 7, 7, 64)          0         \n",
            "                                                                 \n",
            " max_pooling2d_5 (MaxPoolin  (None, 3, 3, 64)          0         \n",
            " g2D)                                                            \n",
            "                                                                 \n",
            " flatten_1 (Flatten)         (None, 576)               0         \n",
            "                                                                 \n",
            " dense_3 (Dense)             (None, 32)                18464     \n",
            "                                                                 \n",
            " dropout_7 (Dropout)         (None, 32)                0         \n",
            "                                                                 \n",
            " dense_4 (Dense)             (None, 32)                1056      \n",
            "                                                                 \n",
            " dense_5 (Dense)             (None, 24)                792       \n",
            "                                                                 \n",
            "=================================================================\n",
            "Total params: 465820 (1.78 MB)\n",
            "Trainable params: 465050 (1.77 MB)\n",
            "Non-trainable params: 770 (3.01 KB)\n",
            "_________________________________________________________________\n"
          ]
        }
      ]
    },
    {
      "cell_type": "code",
      "execution_count": null,
      "metadata": {
        "id": "KteW5qK4R6IA",
        "outputId": "554c7bce-ee9d-45bf-df6f-2e450175df3b",
        "colab": {
          "base_uri": "https://localhost:8080/",
          "height": 472
        }
      },
      "outputs": [
        {
          "output_type": "display_data",
          "data": {
            "text/plain": [
              "<Figure size 640x480 with 1 Axes>"
            ],
            "image/png": "[encoded data removed]"
          },
          "metadata": {}
        }
      ],
      "source": [
        "import matplotlib.pyplot as plt\n",
        "plt.figure()\n",
        "plt.plot(history.history[\"accuracy\"],label=\"train\");\n",
        "plt.plot(history.history[\"val_accuracy\"],label=\"validation\");\n",
        "plt.title(\"accuracy\")\n",
        "plt.ylabel(\"Accuracy\")\n",
        "plt.xlabel(\"Epochs\")\n",
        "plt.legend()\n",
        "plt.show()"
      ]
    },
    {
      "cell_type": "code",
      "source": [
        "plt.figure()\n",
        "plt.plot(history.history[\"loss\"],label=\"train\");\n",
        "plt.plot(history.history[\"val_loss\"],label=\"validation\");\n",
        "plt.title(\"loss\")\n",
        "plt.ylabel(\"loss\")\n",
        "plt.xlabel(\"Epochs\")\n",
        "plt.legend()\n",
        "plt.show()"
      ],
      "metadata": {
        "colab": {
          "base_uri": "https://localhost:8080/",
          "height": 472
        },
        "id": "y9MU-nASBgIf",
        "outputId": "6f065f5b-a264-4a7f-a845-794cd63f4a67"
      },
      "execution_count": null,
      "outputs": [
        {
          "output_type": "display_data",
          "data": {
            "text/plain": [
              "<Figure size 640x480 with 1 Axes>"
            ],
            "image/png": "[encoded data removed]"
          },
          "metadata": {}
        }
      ]
    },
    {
      "cell_type": "code",
      "source": [],
      "metadata": {
        "id": "TYva0qWMZDwP"
      },
      "execution_count": null,
      "outputs": []
    }
  ],
  "metadata": {
    "colab": {
      "provenance": [],
      "gpuType": "T4",
      "mount_file_id": "188ee-vd8m0gC2IOfM4N8cr1VNFXJm9X1",
      "authorship_tag": "ABX9TyOkzfiASlJxI8SMhiVocGCA",
      "include_colab_link": true
    },
    "kernelspec": {
      "display_name": "Python 3",
      "name": "python3"
    },
    "language_info": {
      "name": "python"
    },
    "accelerator": "GPU"
  },
  "nbformat": 4,
  "nbformat_minor": 0
}